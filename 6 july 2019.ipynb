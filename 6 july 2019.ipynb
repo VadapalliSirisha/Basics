{
 "cells": [
  {
   "cell_type": "code",
   "execution_count": 4,
   "metadata": {},
   "outputs": [
    {
     "name": "stdout",
     "output_type": "stream",
     "text": [
      "1+3+4+5+8\n",
      "1\n",
      "8\n"
     ]
    }
   ],
   "source": [
    "# MIN AND MAX\n",
    "\n",
    "n=input()\n",
    "values=n.split(\"+\")\n",
    "int_values=list(map(int,values))\n",
    "print(min(int_values))\n",
    "print(max(int_values))"
   ]
  },
  {
   "cell_type": "code",
   "execution_count": 6,
   "metadata": {},
   "outputs": [
    {
     "name": "stdout",
     "output_type": "stream",
     "text": [
      "10 30 20\n",
      "20\n"
     ]
    }
   ],
   "source": [
    "# SUM\n",
    "\n",
    "def fun(n):\n",
    "    sum=0\n",
    "    count=0\n",
    "    for i in n:\n",
    "        sum=sum+int(i)\n",
    "        count=count+1\n",
    "    print(sum//count)\n",
    "\n",
    "n=input().split()\n",
    "fun(n)"
   ]
  },
  {
   "cell_type": "code",
   "execution_count": 1,
   "metadata": {},
   "outputs": [
    {
     "name": "stdout",
     "output_type": "stream",
     "text": [
      "1+2+3+4+1\n",
      "1\n",
      "4\n"
     ]
    }
   ],
   "source": [
    "n=input()\n",
    "values=n.split(\"+\")\n",
    "int_values=list(map(int,values))\n",
    "print(min(int_values))\n",
    "print(max(int_values))"
   ]
  },
  {
   "cell_type": "code",
   "execution_count": 2,
   "metadata": {},
   "outputs": [
    {
     "name": "stdout",
     "output_type": "stream",
     "text": [
      "20 50 20\n",
      "30\n"
     ]
    }
   ],
   "source": [
    "def fun(n):\n",
    "    sum=0\n",
    "    count=0\n",
    "    for i in n:\n",
    "        sum=sum+int(i)\n",
    "        count=count+1\n",
    "    print(sum//count)\n",
    "    \n",
    "n=input().split()\n",
    "fun(n)"
   ]
  },
  {
   "cell_type": "code",
   "execution_count": 4,
   "metadata": {},
   "outputs": [
    {
     "name": "stdout",
     "output_type": "stream",
     "text": [
      "321\n",
      "1\n",
      "2\n",
      "3\n"
     ]
    }
   ],
   "source": [
    "def fun(n):\n",
    "    while(n!=0):\n",
    "        res=n%10\n",
    "        print(res)\n",
    "        n=n//10\n",
    "    \n",
    "n=int(input())\n",
    "fun(n)"
   ]
  },
  {
   "cell_type": "code",
   "execution_count": 5,
   "metadata": {},
   "outputs": [
    {
     "name": "stdout",
     "output_type": "stream",
     "text": [
      "1245\n",
      "5\n",
      "4\n",
      "2\n",
      "1\n"
     ]
    }
   ],
   "source": [
    "def fun(n):\n",
    "    while(n!=0):\n",
    "        res=n%10\n",
    "        print(res)\n",
    "        n=n//10\n",
    "n=int(input())\n",
    "fun(n)"
   ]
  },
  {
   "cell_type": "code",
   "execution_count": 6,
   "metadata": {},
   "outputs": [
    {
     "name": "stdout",
     "output_type": "stream",
     "text": [
      "Sirisha Vadapalli\n",
      "V.Sirisha\n"
     ]
    }
   ],
   "source": [
    "f_lname=input()\n",
    "lname,fname=f_lname.split(\" \")[::-1]\n",
    "print(lname[0],fname,sep='.')"
   ]
  },
  {
   "cell_type": "code",
   "execution_count": 10,
   "metadata": {},
   "outputs": [
    {
     "name": "stdout",
     "output_type": "stream",
     "text": [
      "1 2 3\n",
      "2\n"
     ]
    }
   ],
   "source": [
    "### 90 80 100\n",
    "\n",
    "marks=input()\n",
    "marks_list=list(map(int,marks.split()))\n",
    "print(sum(marks_list)//len(marks_list))"
   ]
  },
  {
   "cell_type": "code",
   "execution_count": 14,
   "metadata": {},
   "outputs": [
    {
     "name": "stdout",
     "output_type": "stream",
     "text": [
      "2 * 1 = 2\n",
      "2 * 2 = 4\n",
      "2 * 3 = 6\n",
      "2 * 4 = 8\n",
      "2 * 5 = 10\n"
     ]
    }
   ],
   "source": [
    "t=2\n",
    "n=5\n",
    "for i in range(1,n+1):\n",
    "    print(t,\"*\",i,\"=\",t*i)"
   ]
  },
  {
   "cell_type": "code",
   "execution_count": 15,
   "metadata": {},
   "outputs": [
    {
     "name": "stdout",
     "output_type": "stream",
     "text": [
      "Not a leap year\n"
     ]
    }
   ],
   "source": [
    "year=1234\n",
    "if year %400==0 or (year %100!=0 and year %4==0):\n",
    "    print(\"Leap year\")\n",
    "else:\n",
    "    print(\"Not a leap year\")"
   ]
  },
  {
   "cell_type": "markdown",
   "metadata": {},
   "source": [
    "### Practice Test Questions"
   ]
  },
  {
   "cell_type": "code",
   "execution_count": 7,
   "metadata": {},
   "outputs": [
    {
     "name": "stdout",
     "output_type": "stream",
     "text": [
      "Mahesh\n",
      "1 3\n",
      "haMesh\n"
     ]
    }
   ],
   "source": [
    "## REVERSE STRING\n",
    "## Mahesh\n",
    "## 1 3\n",
    "## haMesh\n",
    "\n",
    "l=input()\n",
    "s,e=map(int,input().split())\n",
    "if s==1:\n",
    "    print(l[e-1::-1]+l[e:])\n",
    "else:\n",
    "    print(l[:s-1]+l[e-1:s-2:-1]+l[e:])\n",
    "\n"
   ]
  },
  {
   "cell_type": "code",
   "execution_count": null,
   "metadata": {},
   "outputs": [],
   "source": []
  }
 ],
 "metadata": {
  "kernelspec": {
   "display_name": "Python 3",
   "language": "python",
   "name": "python3"
  },
  "language_info": {
   "codemirror_mode": {
    "name": "ipython",
    "version": 3
   },
   "file_extension": ".py",
   "mimetype": "text/x-python",
   "name": "python",
   "nbconvert_exporter": "python",
   "pygments_lexer": "ipython3",
   "version": "3.7.3"
  }
 },
 "nbformat": 4,
 "nbformat_minor": 2
}
