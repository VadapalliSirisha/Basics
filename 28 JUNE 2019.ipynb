{
 "cells": [
  {
   "cell_type": "code",
   "execution_count": 2,
   "metadata": {},
   "outputs": [
    {
     "name": "stdout",
     "output_type": "stream",
     "text": [
      "1+2+3+4+5\n",
      "15\n"
     ]
    }
   ],
   "source": [
    "# SUM\n",
    "\n",
    "data=input()\n",
    "values=data.split(\"+\")\n",
    "s=0\n",
    "for value in values:\n",
    "    s+=int(value)\n",
    "print(s)"
   ]
  },
  {
   "cell_type": "code",
   "execution_count": 5,
   "metadata": {},
   "outputs": [
    {
     "data": {
      "text/plain": [
       "'ahsiris'"
      ]
     },
     "execution_count": 5,
     "metadata": {},
     "output_type": "execute_result"
    }
   ],
   "source": [
    "s=\"sirisha\"\n",
    "s[::-1]"
   ]
  },
  {
   "cell_type": "code",
   "execution_count": 6,
   "metadata": {},
   "outputs": [
    {
     "data": {
      "text/plain": [
       "'sirisha'"
      ]
     },
     "execution_count": 6,
     "metadata": {},
     "output_type": "execute_result"
    }
   ],
   "source": [
    "s[:]"
   ]
  },
  {
   "cell_type": "code",
   "execution_count": 7,
   "metadata": {},
   "outputs": [
    {
     "name": "stdout",
     "output_type": "stream",
     "text": [
      "SIRISHA\n",
      "sirisha\n"
     ]
    }
   ],
   "source": [
    "s=\"sirisha\"\n",
    "print(s.upper())\n",
    "print(s)"
   ]
  },
  {
   "cell_type": "code",
   "execution_count": 9,
   "metadata": {},
   "outputs": [
    {
     "name": "stdout",
     "output_type": "stream",
     "text": [
      "SIRISHA\n"
     ]
    }
   ],
   "source": [
    "s=\"sirisha\"\n",
    "s=s.upper()\n",
    "print(s)"
   ]
  },
  {
   "cell_type": "code",
   "execution_count": 11,
   "metadata": {},
   "outputs": [
    {
     "name": "stdout",
     "output_type": "stream",
     "text": [
      "sirisha\n",
      "SIRISHA\n"
     ]
    }
   ],
   "source": [
    "s=\"SIRISHA\"\n",
    "print(s.lower())\n",
    "print(s)"
   ]
  },
  {
   "cell_type": "code",
   "execution_count": 12,
   "metadata": {},
   "outputs": [
    {
     "name": "stdout",
     "output_type": "stream",
     "text": [
      "sirisha\n"
     ]
    }
   ],
   "source": [
    "s=\"SIRISHA\"\n",
    "s=s.lower()\n",
    "print(s)"
   ]
  },
  {
   "cell_type": "code",
   "execution_count": 14,
   "metadata": {},
   "outputs": [
    {
     "name": "stdout",
     "output_type": "stream",
     "text": [
      "True\n"
     ]
    }
   ],
   "source": [
    "s=\"sirisha\"\n",
    "print(s.startswith('s'))"
   ]
  },
  {
   "cell_type": "code",
   "execution_count": 15,
   "metadata": {},
   "outputs": [
    {
     "name": "stdout",
     "output_type": "stream",
     "text": [
      "False\n"
     ]
    }
   ],
   "source": [
    "main=\"sirisha\"\n",
    "sub='p'\n",
    "print(main.startswith(sub))"
   ]
  },
  {
   "cell_type": "code",
   "execution_count": 16,
   "metadata": {},
   "outputs": [
    {
     "name": "stdout",
     "output_type": "stream",
     "text": [
      "True\n"
     ]
    }
   ],
   "source": [
    "s=\"sirisha\"\n",
    "print(main.endswith(s))"
   ]
  },
  {
   "cell_type": "code",
   "execution_count": 17,
   "metadata": {},
   "outputs": [
    {
     "name": "stdout",
     "output_type": "stream",
     "text": [
      "True\n"
     ]
    }
   ],
   "source": [
    "s='123'\n",
    "print(s.isdigit())"
   ]
  },
  {
   "cell_type": "code",
   "execution_count": 18,
   "metadata": {},
   "outputs": [
    {
     "name": "stdout",
     "output_type": "stream",
     "text": [
      "False\n"
     ]
    }
   ],
   "source": [
    "s='siri123'\n",
    "print(s.isdigit())"
   ]
  },
  {
   "cell_type": "code",
   "execution_count": 20,
   "metadata": {},
   "outputs": [
    {
     "name": "stdout",
     "output_type": "stream",
     "text": [
      "['sirisha', 'vadapalli']\n"
     ]
    }
   ],
   "source": [
    "s=\"sirisha vadapalli\"\n",
    "result=s.split()\n",
    "print(result)"
   ]
  },
  {
   "cell_type": "code",
   "execution_count": 2,
   "metadata": {},
   "outputs": [
    {
     "name": "stdout",
     "output_type": "stream",
     "text": [
      "A P S S D C\n",
      "Apssdc\n"
     ]
    }
   ],
   "source": [
    "# 1.PRINT GIVEN CHARACTERS AS A WORD WITH STARTING CHARACTER CAPITAL FORM AND REMAINING LOWER\n",
    "\n",
    "# A P S S D C\n",
    "# Apssdc\n",
    "\n",
    "s=input()\n",
    "s=s.capitalize().replace(' ',\"\")\n",
    "print(s)"
   ]
  },
  {
   "cell_type": "code",
   "execution_count": 6,
   "metadata": {},
   "outputs": [
    {
     "name": "stdout",
     "output_type": "stream",
     "text": [
      "A P S S D C\n"
     ]
    },
    {
     "data": {
      "text/plain": [
       "'Apssdc'"
      ]
     },
     "execution_count": 6,
     "metadata": {},
     "output_type": "execute_result"
    }
   ],
   "source": [
    "# A P S S D C\n",
    "\n",
    "characters=input()\n",
    "word=characters.split()\n",
    "''.join(word).capitalize()\n",
    "\n"
   ]
  },
  {
   "cell_type": "code",
   "execution_count": 38,
   "metadata": {},
   "outputs": [
    {
     "name": "stdout",
     "output_type": "stream",
     "text": [
      "False\n"
     ]
    }
   ],
   "source": [
    "s=\"sirisha\"\n",
    "print(s.isupper())"
   ]
  },
  {
   "cell_type": "code",
   "execution_count": 39,
   "metadata": {},
   "outputs": [
    {
     "name": "stdout",
     "output_type": "stream",
     "text": [
      "True\n"
     ]
    }
   ],
   "source": [
    "s=\"sirisha\"\n",
    "print(s.islower())"
   ]
  },
  {
   "cell_type": "code",
   "execution_count": 40,
   "metadata": {},
   "outputs": [
    {
     "name": "stdout",
     "output_type": "stream",
     "text": [
      "True\n"
     ]
    }
   ],
   "source": [
    "s=\"sirisha\"\n",
    "print(s.isalpha())"
   ]
  },
  {
   "cell_type": "code",
   "execution_count": 42,
   "metadata": {},
   "outputs": [
    {
     "name": "stdout",
     "output_type": "stream",
     "text": [
      "False\n"
     ]
    }
   ],
   "source": [
    "s=\"sirisha98\"\n",
    "print(s.isalpha())"
   ]
  },
  {
   "cell_type": "code",
   "execution_count": 43,
   "metadata": {},
   "outputs": [
    {
     "name": "stdout",
     "output_type": "stream",
     "text": [
      "SIRISHA VADAPALLI\n"
     ]
    }
   ],
   "source": [
    "s=\"sirisha vadapalli\"\n",
    "print(s.swapcase())"
   ]
  },
  {
   "cell_type": "code",
   "execution_count": 45,
   "metadata": {},
   "outputs": [
    {
     "name": "stdout",
     "output_type": "stream",
     "text": [
      "Sirisha Vadapalli\n"
     ]
    }
   ],
   "source": [
    "s=\"sirisha vadapalli\"\n",
    "print(s.title())"
   ]
  },
  {
   "cell_type": "code",
   "execution_count": 7,
   "metadata": {},
   "outputs": [
    {
     "name": "stdout",
     "output_type": "stream",
     "text": [
      "hai hello world\n",
      "hello\n",
      "world\n"
     ]
    }
   ],
   "source": [
    "# 2.Print the maximum length word of given words\n",
    "# Hai hello world\n",
    "# hello\n",
    "# world\n",
    "\n",
    "words=input().split()\n",
    "lengths=[]\n",
    "for word in words:\n",
    "    lengths.append(len(word))\n",
    "max_length=max(lengths)\n",
    "for word in words:\n",
    "    if max_length==len(word):\n",
    "        print(word)\n",
    "\n",
    "\n"
   ]
  },
  {
   "cell_type": "code",
   "execution_count": 8,
   "metadata": {},
   "outputs": [
    {
     "name": "stdout",
     "output_type": "stream",
     "text": [
      "hai hello world\n",
      "hello\n",
      "world\n"
     ]
    },
    {
     "data": {
      "text/plain": [
       "[None, None]"
      ]
     },
     "execution_count": 8,
     "metadata": {},
     "output_type": "execute_result"
    }
   ],
   "source": [
    "# LIST COMPREHENSION\n",
    "words=input().split()\n",
    "[print(word)for word in words if max(list(map(len,words)))==len(word)]"
   ]
  },
  {
   "cell_type": "code",
   "execution_count": 9,
   "metadata": {},
   "outputs": [
    {
     "name": "stdout",
     "output_type": "stream",
     "text": [
      "hai hello world\n",
      "hello\n",
      "world\n"
     ]
    }
   ],
   "source": [
    "words=input().split()\n",
    "max_length=max(list(map(len,words)))\n",
    "for word in words:\n",
    "    if max_length==len(word):\n",
    "        print(word)\n",
    "\n"
   ]
  },
  {
   "cell_type": "code",
   "execution_count": null,
   "metadata": {},
   "outputs": [],
   "source": []
  },
  {
   "cell_type": "code",
   "execution_count": 11,
   "metadata": {},
   "outputs": [
    {
     "name": "stdout",
     "output_type": "stream",
     "text": [
      "ramu ravi balu\n",
      "r\n",
      "ramu\n",
      "ravi\n"
     ]
    }
   ],
   "source": [
    "# 3.Print all the words which starts with the given character, If no words matches with the given condition you should print -1\n",
    "#  ramu ravi balu\n",
    "# r\n",
    "# ramu\n",
    "# ravi\n",
    "\n",
    "words=input().split()\n",
    "c=input()\n",
    "match=0\n",
    "for word in words:\n",
    "    if word.startswith(c):\n",
    "        print(word)\n",
    "        match+=1\n",
    "if match==0:\n",
    "    print(-1)\n",
    "        \n",
    "\n"
   ]
  },
  {
   "cell_type": "code",
   "execution_count": null,
   "metadata": {},
   "outputs": [],
   "source": []
  },
  {
   "cell_type": "code",
   "execution_count": null,
   "metadata": {},
   "outputs": [],
   "source": [
    "# 4.Print all the words which words not ends with vowels(a,e,i,o,u)\n",
    "# ramu ravi balu raju mahesh\n",
    "# mahesh\n",
    "\n",
    "\n"
   ]
  },
  {
   "cell_type": "code",
   "execution_count": null,
   "metadata": {},
   "outputs": [],
   "source": []
  },
  {
   "cell_type": "code",
   "execution_count": 23,
   "metadata": {},
   "outputs": [
    {
     "name": "stdout",
     "output_type": "stream",
     "text": [
      "ramu akash balu\n",
      "akash\n"
     ]
    }
   ],
   "source": [
    "# 5. Print all the words which word contains duplicate characters\n",
    "# ramu akash balu\n",
    "# akash\n",
    "\n",
    "names=input().split() #['rami','akash','balu']\n",
    "for name in names:\n",
    "    for ch in name:\n",
    "        if name.count(ch)>1:\n",
    "            print(name)\n",
    "            break\n",
    "            \n",
    "    "
   ]
  },
  {
   "cell_type": "code",
   "execution_count": null,
   "metadata": {},
   "outputs": [],
   "source": []
  },
  {
   "cell_type": "code",
   "execution_count": 4,
   "metadata": {},
   "outputs": [
    {
     "name": "stdout",
     "output_type": "stream",
     "text": [
      " HellowOrld\n",
      " hELLOWoRLD\n"
     ]
    }
   ],
   "source": [
    "# 6.Swap the case of all characters in given string except last character\n",
    "# HellowOrld\n",
    "# hELLOWoRLd\n",
    "\n",
    "\n",
    "swap_case=input()\n",
    "s=swap_case.swapcase()\n",
    "print(s)"
   ]
  },
  {
   "cell_type": "code",
   "execution_count": 12,
   "metadata": {},
   "outputs": [
    {
     "name": "stdout",
     "output_type": "stream",
     "text": [
      "HellowOrld\n"
     ]
    },
    {
     "data": {
      "text/plain": [
       "'hELLOWoRLd'"
      ]
     },
     "execution_count": 12,
     "metadata": {},
     "output_type": "execute_result"
    }
   ],
   "source": [
    "word=input()\n",
    "word[:-1].swapcase()+word[-1]"
   ]
  },
  {
   "cell_type": "code",
   "execution_count": null,
   "metadata": {},
   "outputs": [],
   "source": []
  },
  {
   "cell_type": "code",
   "execution_count": 14,
   "metadata": {},
   "outputs": [
    {
     "name": "stdout",
     "output_type": "stream",
     "text": [
      "HelloWorld\n",
      "2\n"
     ]
    }
   ],
   "source": [
    "# 7.Print the number of words in a given string (here word starting character contains UPPER letter)\n",
    "# HelloWorld\n",
    "# 2\n",
    "\n",
    "word=input()\n",
    "count=0\n",
    "for char in word:\n",
    "    if char.isupper():\n",
    "        count+=1\n",
    "print(count)"
   ]
  },
  {
   "cell_type": "code",
   "execution_count": 16,
   "metadata": {},
   "outputs": [
    {
     "name": "stdout",
     "output_type": "stream",
     "text": [
      "HelloWorld\n"
     ]
    },
    {
     "data": {
      "text/plain": [
       "2"
      ]
     },
     "execution_count": 16,
     "metadata": {},
     "output_type": "execute_result"
    }
   ],
   "source": [
    "len(list(filter(str.isupper,input())))"
   ]
  },
  {
   "cell_type": "code",
   "execution_count": null,
   "metadata": {},
   "outputs": [],
   "source": []
  },
  {
   "cell_type": "code",
   "execution_count": null,
   "metadata": {},
   "outputs": [],
   "source": [
    "# 8.Print the number of digits, alphabets and any other \n",
    "# www.way2sms.com\n",
    "# DIGITS 1\n",
    "# ALPHABETS  12\n",
    "# OTHER 2\n",
    "\n",
    "\n",
    "digit_alpha_other=input()\n"
   ]
  },
  {
   "cell_type": "code",
   "execution_count": null,
   "metadata": {},
   "outputs": [],
   "source": []
  },
  {
   "cell_type": "markdown",
   "metadata": {},
   "source": [
    "### Tupples:"
   ]
  },
  {
   "cell_type": "code",
   "execution_count": 18,
   "metadata": {},
   "outputs": [
    {
     "data": {
      "text/plain": [
       "[0, 1, 2, 3, 4, 5, 6, 7, 8, 9]"
      ]
     },
     "execution_count": 18,
     "metadata": {},
     "output_type": "execute_result"
    }
   ],
   "source": [
    "li=[i for i in range(10)]\n",
    "li\n"
   ]
  },
  {
   "cell_type": "code",
   "execution_count": 19,
   "metadata": {},
   "outputs": [
    {
     "data": {
      "text/plain": [
       "[0, 1, 2, 3, 4, 5, 6, 7, 8, 9]"
      ]
     },
     "execution_count": 19,
     "metadata": {},
     "output_type": "execute_result"
    }
   ],
   "source": [
    "li=[]\n",
    "for i in range(10):\n",
    "    li.append(i)\n",
    "li"
   ]
  },
  {
   "cell_type": "code",
   "execution_count": 20,
   "metadata": {},
   "outputs": [
    {
     "data": {
      "text/plain": [
       "[0, 1, 4, 9, 16, 25, 36, 49, 64, 81]"
      ]
     },
     "execution_count": 20,
     "metadata": {},
     "output_type": "execute_result"
    }
   ],
   "source": [
    "# SQUARE VALUES\n",
    "li=[i*i for i in range(10)]\n",
    "li"
   ]
  },
  {
   "cell_type": "code",
   "execution_count": 22,
   "metadata": {},
   "outputs": [
    {
     "data": {
      "text/plain": [
       "[5, 10, 15, 20, 25, 30, 35, 40, 45, 50]"
      ]
     },
     "execution_count": 22,
     "metadata": {},
     "output_type": "execute_result"
    }
   ],
   "source": [
    "# 5 MULTIPLES\n",
    "li=[5*i for i in range(1,11)]\n",
    "li"
   ]
  },
  {
   "cell_type": "code",
   "execution_count": 26,
   "metadata": {},
   "outputs": [
    {
     "name": "stdout",
     "output_type": "stream",
     "text": [
      "[0, 2, 4, 6, 8, 10]\n"
     ]
    }
   ],
   "source": [
    "#1.Print even and odd numbers up to given range.\n",
    "\n",
    "#### input : 10 \n",
    "#### output:\n",
    "#### even numbers -->  2,4,6,8,10\n",
    "#### odd numbers --> 1,3,5,7,9\n",
    "\n",
    "li=[i for i in range(0,11,2)]\n",
    "print(li)"
   ]
  },
  {
   "cell_type": "code",
   "execution_count": 30,
   "metadata": {},
   "outputs": [
    {
     "name": "stdout",
     "output_type": "stream",
     "text": [
      "[1, 3, 5, 7, 9]\n"
     ]
    }
   ],
   "source": [
    "li=[i for i in range(1,10,2)]\n",
    "print(li)"
   ]
  },
  {
   "cell_type": "code",
   "execution_count": null,
   "metadata": {},
   "outputs": [],
   "source": []
  },
  {
   "cell_type": "code",
   "execution_count": null,
   "metadata": {},
   "outputs": [],
   "source": [
    "# 2..print given numbers prime or not.\n",
    "\n",
    "#### input: --> 5 9\n",
    "#### output: -->5  True\n",
    "####         9   False\n",
    "\n"
   ]
  }
 ],
 "metadata": {
  "kernelspec": {
   "display_name": "Python 3",
   "language": "python",
   "name": "python3"
  },
  "language_info": {
   "codemirror_mode": {
    "name": "ipython",
    "version": 3
   },
   "file_extension": ".py",
   "mimetype": "text/x-python",
   "name": "python",
   "nbconvert_exporter": "python",
   "pygments_lexer": "ipython3",
   "version": "3.7.3"
  }
 },
 "nbformat": 4,
 "nbformat_minor": 2
}
